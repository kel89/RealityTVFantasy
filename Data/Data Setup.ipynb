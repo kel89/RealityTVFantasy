{
 "cells": [
  {
   "cell_type": "markdown",
   "metadata": {},
   "source": [
    "# Data Setup"
   ]
  },
  {
   "cell_type": "code",
   "execution_count": 22,
   "metadata": {},
   "outputs": [],
   "source": [
    "import numpy as np\n",
    "import pandas as pd\n",
    "import os"
   ]
  },
  {
   "cell_type": "markdown",
   "metadata": {},
   "source": [
    "## Create Star Data\n",
    "Parse through the directory with all the head shots and create a dataframe of all the stars and their show"
   ]
  },
  {
   "cell_type": "code",
   "execution_count": 16,
   "metadata": {},
   "outputs": [],
   "source": [
    "# Create the dictionary\n",
    "star_data = []"
   ]
  },
  {
   "cell_type": "code",
   "execution_count": 17,
   "metadata": {},
   "outputs": [],
   "source": [
    "# Get list of all stars\n",
    "files = os.listdir(\"../Assets/Headshots\")\n",
    "for f in files:\n",
    "    # get the show\n",
    "    show = f[0:f.index(\"_\")]\n",
    "    \n",
    "    # Get the star\n",
    "    star = f[f.index(\"_\") + 1:f.index(\".\")]\n",
    "    \n",
    "    # Get the status (for now made up)\n",
    "    status = \"In the hunt\"\n",
    "    \n",
    "    # Add to data\n",
    "    star_data.append({\"show\":show, \"star\":star, \"status\":status, \"file\":f})"
   ]
  },
  {
   "cell_type": "code",
   "execution_count": 18,
   "metadata": {},
   "outputs": [],
   "source": [
    "# Make the data frame\n",
    "star_df = pd.DataFrame(star_data)"
   ]
  },
  {
   "cell_type": "code",
   "execution_count": 19,
   "metadata": {},
   "outputs": [
    {
     "data": {
      "text/html": [
       "<div>\n",
       "<style scoped>\n",
       "    .dataframe tbody tr th:only-of-type {\n",
       "        vertical-align: middle;\n",
       "    }\n",
       "\n",
       "    .dataframe tbody tr th {\n",
       "        vertical-align: top;\n",
       "    }\n",
       "\n",
       "    .dataframe thead th {\n",
       "        text-align: right;\n",
       "    }\n",
       "</style>\n",
       "<table border=\"1\" class=\"dataframe\">\n",
       "  <thead>\n",
       "    <tr style=\"text-align: right;\">\n",
       "      <th></th>\n",
       "      <th>show</th>\n",
       "      <th>star</th>\n",
       "      <th>status</th>\n",
       "      <th>file</th>\n",
       "    </tr>\n",
       "  </thead>\n",
       "  <tbody>\n",
       "    <tr>\n",
       "      <th>0</th>\n",
       "      <td>sur</td>\n",
       "      <td>rob</td>\n",
       "      <td>In the hunt</td>\n",
       "      <td>sur_rob.jpg</td>\n",
       "    </tr>\n",
       "    <tr>\n",
       "      <th>1</th>\n",
       "      <td>sur</td>\n",
       "      <td>adam</td>\n",
       "      <td>In the hunt</td>\n",
       "      <td>sur_adam.jpg</td>\n",
       "    </tr>\n",
       "    <tr>\n",
       "      <th>2</th>\n",
       "      <td>tc</td>\n",
       "      <td>kevin</td>\n",
       "      <td>In the hunt</td>\n",
       "      <td>tc_kevin.jpg</td>\n",
       "    </tr>\n",
       "    <tr>\n",
       "      <th>3</th>\n",
       "      <td>tc</td>\n",
       "      <td>melissa</td>\n",
       "      <td>In the hunt</td>\n",
       "      <td>tc_melissa.jpg</td>\n",
       "    </tr>\n",
       "    <tr>\n",
       "      <th>4</th>\n",
       "      <td>sur</td>\n",
       "      <td>danni</td>\n",
       "      <td>In the hunt</td>\n",
       "      <td>sur_danni.jpg</td>\n",
       "    </tr>\n",
       "  </tbody>\n",
       "</table>\n",
       "</div>"
      ],
      "text/plain": [
       "  show     star       status            file\n",
       "0  sur      rob  In the hunt     sur_rob.jpg\n",
       "1  sur     adam  In the hunt    sur_adam.jpg\n",
       "2   tc    kevin  In the hunt    tc_kevin.jpg\n",
       "3   tc  melissa  In the hunt  tc_melissa.jpg\n",
       "4  sur    danni  In the hunt   sur_danni.jpg"
      ]
     },
     "execution_count": 19,
     "metadata": {},
     "output_type": "execute_result"
    }
   ],
   "source": [
    "star_df.head()"
   ]
  },
  {
   "cell_type": "code",
   "execution_count": 20,
   "metadata": {},
   "outputs": [],
   "source": [
    "# Write to js\n",
    "s = \"var starData = \" + star_df.to_json(orient='records') + ';'\n",
    "out_file = open(\"starData.js\", \"w+\")\n",
    "out_file.write(s)\n",
    "out_file.close()"
   ]
  },
  {
   "cell_type": "markdown",
   "metadata": {},
   "source": [
    "## Teams and Draft Picks"
   ]
  },
  {
   "cell_type": "code",
   "execution_count": 26,
   "metadata": {},
   "outputs": [
    {
     "data": {
      "text/html": [
       "<div>\n",
       "<style scoped>\n",
       "    .dataframe tbody tr th:only-of-type {\n",
       "        vertical-align: middle;\n",
       "    }\n",
       "\n",
       "    .dataframe tbody tr th {\n",
       "        vertical-align: top;\n",
       "    }\n",
       "\n",
       "    .dataframe thead th {\n",
       "        text-align: right;\n",
       "    }\n",
       "</style>\n",
       "<table border=\"1\" class=\"dataframe\">\n",
       "  <thead>\n",
       "    <tr style=\"text-align: right;\">\n",
       "      <th></th>\n",
       "      <th>Name</th>\n",
       "      <th>Show</th>\n",
       "      <th>PickedBy</th>\n",
       "      <th>Eliminated</th>\n",
       "    </tr>\n",
       "  </thead>\n",
       "  <tbody>\n",
       "    <tr>\n",
       "      <th>0</th>\n",
       "      <td>Shiann</td>\n",
       "      <td>Bachelor</td>\n",
       "      <td>Alex C</td>\n",
       "      <td>NaN</td>\n",
       "    </tr>\n",
       "    <tr>\n",
       "      <th>1</th>\n",
       "      <td>Delvin</td>\n",
       "      <td>Project Runway</td>\n",
       "      <td>Alex C</td>\n",
       "      <td>NaN</td>\n",
       "    </tr>\n",
       "    <tr>\n",
       "      <th>2</th>\n",
       "      <td>Natalie</td>\n",
       "      <td>Survivor</td>\n",
       "      <td>Alex C</td>\n",
       "      <td>NaN</td>\n",
       "    </tr>\n",
       "    <tr>\n",
       "      <th>3</th>\n",
       "      <td>Rob</td>\n",
       "      <td>Survivor</td>\n",
       "      <td>Alex C</td>\n",
       "      <td>NaN</td>\n",
       "    </tr>\n",
       "    <tr>\n",
       "      <th>4</th>\n",
       "      <td>Gregory</td>\n",
       "      <td>Top Chef</td>\n",
       "      <td>Alex C</td>\n",
       "      <td>NaN</td>\n",
       "    </tr>\n",
       "  </tbody>\n",
       "</table>\n",
       "</div>"
      ],
      "text/plain": [
       "      Name            Show PickedBy  Eliminated\n",
       "0   Shiann        Bachelor   Alex C         NaN\n",
       "1   Delvin  Project Runway   Alex C         NaN\n",
       "2  Natalie        Survivor   Alex C         NaN\n",
       "3      Rob        Survivor   Alex C         NaN\n",
       "4  Gregory        Top Chef   Alex C         NaN"
      ]
     },
     "execution_count": 26,
     "metadata": {},
     "output_type": "execute_result"
    }
   ],
   "source": [
    "draft = pd.read_excel(\"draft_results1-17-20.xlsx\")\n",
    "draft.head()"
   ]
  },
  {
   "cell_type": "code",
   "execution_count": 27,
   "metadata": {},
   "outputs": [],
   "source": [
    "# Add a column for score\n",
    "draft[\"Score\"] = 0"
   ]
  },
  {
   "cell_type": "code",
   "execution_count": 29,
   "metadata": {},
   "outputs": [],
   "source": [
    "s = \"var userData = \" + draft.to_json(orient='records') + ';'\n",
    "out_file = open(\"userData.js\", \"w+\")\n",
    "out_file.write(s)\n",
    "out_file.close()"
   ]
  },
  {
   "cell_type": "code",
   "execution_count": null,
   "metadata": {},
   "outputs": [],
   "source": []
  }
 ],
 "metadata": {
  "kernelspec": {
   "display_name": "Python 3",
   "language": "python",
   "name": "python3"
  },
  "language_info": {
   "codemirror_mode": {
    "name": "ipython",
    "version": 3
   },
   "file_extension": ".py",
   "mimetype": "text/x-python",
   "name": "python",
   "nbconvert_exporter": "python",
   "pygments_lexer": "ipython3",
   "version": "3.7.5"
  }
 },
 "nbformat": 4,
 "nbformat_minor": 4
}
